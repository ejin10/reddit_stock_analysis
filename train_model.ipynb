{
 "cells": [
  {
   "cell_type": "code",
   "execution_count": 1,
   "id": "020a7515",
   "metadata": {},
   "outputs": [
    {
     "name": "stderr",
     "output_type": "stream",
     "text": [
      "[nltk_data] Downloading package wordnet to /home/emilyjin/nltk_data...\n",
      "[nltk_data]   Package wordnet is already up-to-date!\n",
      "[nltk_data] Downloading package stopwords to\n",
      "[nltk_data]     /home/emilyjin/nltk_data...\n",
      "[nltk_data]   Package stopwords is already up-to-date!\n"
     ]
    }
   ],
   "source": [
    "import torch\n",
    "import torch.nn as nn\n",
    "import torchtext\n",
    "import csv \n",
    "from util import get_available_devices\n",
    "from sentiment_util import evaluate\n",
    "from models.sentiment_model import MovementPredictor\n",
    "from torchtext.legacy import data\n",
    "import spacy\n",
    "import torch.optim as optim\n",
    "import torch.optim.lr_scheduler as sched\n",
    "from torchtext.vocab import GloVe\n",
    "import torch.nn.functional as F"
   ]
  },
  {
   "cell_type": "code",
   "execution_count": 10,
   "id": "96a4bba5",
   "metadata": {},
   "outputs": [
    {
     "name": "stdout",
     "output_type": "stream",
     "text": [
      "Requirement already satisfied: nltk in /home/emilyjin/.local/lib/python3.7/site-packages (3.6.2)\n",
      "Requirement already satisfied: click in /opt/conda/lib/python3.7/site-packages (from nltk) (7.1.2)\n",
      "Requirement already satisfied: regex in /opt/conda/lib/python3.7/site-packages (from nltk) (2021.4.4)\n",
      "Requirement already satisfied: tqdm in /opt/conda/lib/python3.7/site-packages (from nltk) (4.60.0)\n",
      "Requirement already satisfied: joblib in /opt/conda/lib/python3.7/site-packages (from nltk) (1.0.1)\n",
      "Requirement already satisfied: spacy==2.3.5 in /opt/conda/lib/python3.7/site-packages (2.3.5)\n",
      "Requirement already satisfied: murmurhash<1.1.0,>=0.28.0 in /opt/conda/lib/python3.7/site-packages (from spacy==2.3.5) (1.0.5)\n",
      "Requirement already satisfied: setuptools in /opt/conda/lib/python3.7/site-packages (from spacy==2.3.5) (49.6.0.post20210108)\n",
      "Requirement already satisfied: requests<3.0.0,>=2.13.0 in /opt/conda/lib/python3.7/site-packages (from spacy==2.3.5) (2.24.0)\n",
      "Requirement already satisfied: numpy>=1.15.0 in /opt/conda/lib/python3.7/site-packages (from spacy==2.3.5) (1.19.5)\n",
      "Requirement already satisfied: srsly<1.1.0,>=1.0.2 in /opt/conda/lib/python3.7/site-packages (from spacy==2.3.5) (1.0.5)\n",
      "Requirement already satisfied: thinc<7.5.0,>=7.4.1 in /opt/conda/lib/python3.7/site-packages (from spacy==2.3.5) (7.4.5)\n",
      "Requirement already satisfied: catalogue<1.1.0,>=0.0.7 in /opt/conda/lib/python3.7/site-packages (from spacy==2.3.5) (1.0.0)\n",
      "Requirement already satisfied: cymem<2.1.0,>=2.0.2 in /opt/conda/lib/python3.7/site-packages (from spacy==2.3.5) (2.0.5)\n",
      "Requirement already satisfied: preshed<3.1.0,>=3.0.2 in /opt/conda/lib/python3.7/site-packages (from spacy==2.3.5) (3.0.5)\n",
      "Requirement already satisfied: wasabi<1.1.0,>=0.4.0 in /opt/conda/lib/python3.7/site-packages (from spacy==2.3.5) (0.8.2)\n",
      "Requirement already satisfied: blis<0.8.0,>=0.4.0 in /opt/conda/lib/python3.7/site-packages (from spacy==2.3.5) (0.7.4)\n",
      "Requirement already satisfied: plac<1.2.0,>=0.9.6 in /opt/conda/lib/python3.7/site-packages (from spacy==2.3.5) (1.1.3)\n",
      "Requirement already satisfied: tqdm<5.0.0,>=4.38.0 in /opt/conda/lib/python3.7/site-packages (from spacy==2.3.5) (4.60.0)\n",
      "Requirement already satisfied: importlib-metadata>=0.20 in /opt/conda/lib/python3.7/site-packages (from catalogue<1.1.0,>=0.0.7->spacy==2.3.5) (4.0.1)\n",
      "Requirement already satisfied: typing-extensions>=3.6.4 in /opt/conda/lib/python3.7/site-packages (from importlib-metadata>=0.20->catalogue<1.1.0,>=0.0.7->spacy==2.3.5) (3.7.4.3)\n",
      "Requirement already satisfied: zipp>=0.5 in /opt/conda/lib/python3.7/site-packages (from importlib-metadata>=0.20->catalogue<1.1.0,>=0.0.7->spacy==2.3.5) (3.4.1)\n",
      "Requirement already satisfied: certifi>=2017.4.17 in /opt/conda/lib/python3.7/site-packages (from requests<3.0.0,>=2.13.0->spacy==2.3.5) (2020.6.20)\n",
      "Requirement already satisfied: idna<3,>=2.5 in /opt/conda/lib/python3.7/site-packages (from requests<3.0.0,>=2.13.0->spacy==2.3.5) (2.10)\n",
      "Requirement already satisfied: chardet<4,>=3.0.2 in /opt/conda/lib/python3.7/site-packages (from requests<3.0.0,>=2.13.0->spacy==2.3.5) (3.0.4)\n",
      "Requirement already satisfied: urllib3!=1.25.0,!=1.25.1,<1.26,>=1.21.1 in /opt/conda/lib/python3.7/site-packages (from requests<3.0.0,>=2.13.0->spacy==2.3.5) (1.25.9)\n",
      "Collecting https://github.com/explosion/spacy-models/releases/download/en_core_web_sm-2.3.1/en_core_web_sm-2.3.1.tar.gz\n",
      "  Downloading https://github.com/explosion/spacy-models/releases/download/en_core_web_sm-2.3.1/en_core_web_sm-2.3.1.tar.gz (12.0 MB)\n",
      "\u001b[K     |████████████████████████████████| 12.0 MB 8.1 MB/s eta 0:00:01    |█▍                              | 542 kB 8.1 MB/s eta 0:00:02     |███████████████████████████▍    | 10.3 MB 8.1 MB/s eta 0:00:01\n",
      "\u001b[?25hRequirement already satisfied: spacy<2.4.0,>=2.3.0 in /opt/conda/lib/python3.7/site-packages (from en-core-web-sm==2.3.1) (2.3.5)\n",
      "Requirement already satisfied: tqdm<5.0.0,>=4.38.0 in /opt/conda/lib/python3.7/site-packages (from spacy<2.4.0,>=2.3.0->en-core-web-sm==2.3.1) (4.60.0)\n",
      "Requirement already satisfied: srsly<1.1.0,>=1.0.2 in /opt/conda/lib/python3.7/site-packages (from spacy<2.4.0,>=2.3.0->en-core-web-sm==2.3.1) (1.0.5)\n",
      "Requirement already satisfied: setuptools in /opt/conda/lib/python3.7/site-packages (from spacy<2.4.0,>=2.3.0->en-core-web-sm==2.3.1) (49.6.0.post20210108)\n",
      "Requirement already satisfied: numpy>=1.15.0 in /opt/conda/lib/python3.7/site-packages (from spacy<2.4.0,>=2.3.0->en-core-web-sm==2.3.1) (1.19.5)\n",
      "Requirement already satisfied: plac<1.2.0,>=0.9.6 in /opt/conda/lib/python3.7/site-packages (from spacy<2.4.0,>=2.3.0->en-core-web-sm==2.3.1) (1.1.3)\n",
      "Requirement already satisfied: preshed<3.1.0,>=3.0.2 in /opt/conda/lib/python3.7/site-packages (from spacy<2.4.0,>=2.3.0->en-core-web-sm==2.3.1) (3.0.5)\n",
      "Requirement already satisfied: thinc<7.5.0,>=7.4.1 in /opt/conda/lib/python3.7/site-packages (from spacy<2.4.0,>=2.3.0->en-core-web-sm==2.3.1) (7.4.5)\n",
      "Requirement already satisfied: catalogue<1.1.0,>=0.0.7 in /opt/conda/lib/python3.7/site-packages (from spacy<2.4.0,>=2.3.0->en-core-web-sm==2.3.1) (1.0.0)\n",
      "Requirement already satisfied: requests<3.0.0,>=2.13.0 in /opt/conda/lib/python3.7/site-packages (from spacy<2.4.0,>=2.3.0->en-core-web-sm==2.3.1) (2.24.0)\n",
      "Requirement already satisfied: cymem<2.1.0,>=2.0.2 in /opt/conda/lib/python3.7/site-packages (from spacy<2.4.0,>=2.3.0->en-core-web-sm==2.3.1) (2.0.5)\n",
      "Requirement already satisfied: wasabi<1.1.0,>=0.4.0 in /opt/conda/lib/python3.7/site-packages (from spacy<2.4.0,>=2.3.0->en-core-web-sm==2.3.1) (0.8.2)\n",
      "Requirement already satisfied: blis<0.8.0,>=0.4.0 in /opt/conda/lib/python3.7/site-packages (from spacy<2.4.0,>=2.3.0->en-core-web-sm==2.3.1) (0.7.4)\n",
      "Requirement already satisfied: murmurhash<1.1.0,>=0.28.0 in /opt/conda/lib/python3.7/site-packages (from spacy<2.4.0,>=2.3.0->en-core-web-sm==2.3.1) (1.0.5)\n",
      "Requirement already satisfied: importlib-metadata>=0.20 in /opt/conda/lib/python3.7/site-packages (from catalogue<1.1.0,>=0.0.7->spacy<2.4.0,>=2.3.0->en-core-web-sm==2.3.1) (4.0.1)\n",
      "Requirement already satisfied: zipp>=0.5 in /opt/conda/lib/python3.7/site-packages (from importlib-metadata>=0.20->catalogue<1.1.0,>=0.0.7->spacy<2.4.0,>=2.3.0->en-core-web-sm==2.3.1) (3.4.1)\n",
      "Requirement already satisfied: typing-extensions>=3.6.4 in /opt/conda/lib/python3.7/site-packages (from importlib-metadata>=0.20->catalogue<1.1.0,>=0.0.7->spacy<2.4.0,>=2.3.0->en-core-web-sm==2.3.1) (3.7.4.3)\n",
      "Requirement already satisfied: urllib3!=1.25.0,!=1.25.1,<1.26,>=1.21.1 in /opt/conda/lib/python3.7/site-packages (from requests<3.0.0,>=2.13.0->spacy<2.4.0,>=2.3.0->en-core-web-sm==2.3.1) (1.25.9)\n",
      "Requirement already satisfied: certifi>=2017.4.17 in /opt/conda/lib/python3.7/site-packages (from requests<3.0.0,>=2.13.0->spacy<2.4.0,>=2.3.0->en-core-web-sm==2.3.1) (2020.6.20)\n",
      "Requirement already satisfied: idna<3,>=2.5 in /opt/conda/lib/python3.7/site-packages (from requests<3.0.0,>=2.13.0->spacy<2.4.0,>=2.3.0->en-core-web-sm==2.3.1) (2.10)\n",
      "Requirement already satisfied: chardet<4,>=3.0.2 in /opt/conda/lib/python3.7/site-packages (from requests<3.0.0,>=2.13.0->spacy<2.4.0,>=2.3.0->en-core-web-sm==2.3.1) (3.0.4)\n",
      "Requirement already satisfied: pyresparser in /opt/conda/lib/python3.7/site-packages (1.0.6)\n",
      "Requirement already satisfied: spacy>=2.1.4 in /opt/conda/lib/python3.7/site-packages (from pyresparser) (2.3.5)\n",
      "Requirement already satisfied: pdfminer.six>=20181108 in /opt/conda/lib/python3.7/site-packages (from pyresparser) (20201018)\n",
      "Requirement already satisfied: jsonschema>=3.0.1 in /opt/conda/lib/python3.7/site-packages (from pyresparser) (3.2.0)\n",
      "Requirement already satisfied: pandas>=0.24.2 in /opt/conda/lib/python3.7/site-packages (from pyresparser) (1.2.4)\n",
      "Requirement already satisfied: attrs>=19.1.0 in /opt/conda/lib/python3.7/site-packages (from pyresparser) (20.3.0)\n",
      "Requirement already satisfied: numpy>=1.16.4 in /opt/conda/lib/python3.7/site-packages (from pyresparser) (1.19.5)\n",
      "Requirement already satisfied: cymem>=2.0.2 in /opt/conda/lib/python3.7/site-packages (from pyresparser) (2.0.5)\n",
      "Requirement already satisfied: preshed>=2.0.1 in /opt/conda/lib/python3.7/site-packages (from pyresparser) (3.0.5)\n",
      "Requirement already satisfied: tqdm>=4.32.2 in /opt/conda/lib/python3.7/site-packages (from pyresparser) (4.60.0)\n",
      "Requirement already satisfied: requests>=2.22.0 in /opt/conda/lib/python3.7/site-packages (from pyresparser) (2.24.0)\n",
      "Requirement already satisfied: wasabi>=0.2.2 in /opt/conda/lib/python3.7/site-packages (from pyresparser) (0.8.2)\n",
      "Requirement already satisfied: urllib3>=1.25.3 in /opt/conda/lib/python3.7/site-packages (from pyresparser) (1.25.9)\n",
      "Requirement already satisfied: nltk>=3.4.3 in /home/emilyjin/.local/lib/python3.7/site-packages (from pyresparser) (3.6.2)\n",
      "Requirement already satisfied: blis>=0.2.4 in /opt/conda/lib/python3.7/site-packages (from pyresparser) (0.7.4)\n",
      "Requirement already satisfied: python-dateutil>=2.8.0 in /opt/conda/lib/python3.7/site-packages (from pyresparser) (2.8.1)\n",
      "Requirement already satisfied: docx2txt>=0.7 in /opt/conda/lib/python3.7/site-packages (from pyresparser) (0.8)\n",
      "Requirement already satisfied: idna>=2.8 in /opt/conda/lib/python3.7/site-packages (from pyresparser) (2.10)\n",
      "Requirement already satisfied: pycryptodome>=3.8.2 in /opt/conda/lib/python3.7/site-packages (from pyresparser) (3.10.1)\n",
      "Requirement already satisfied: srsly>=0.0.7 in /opt/conda/lib/python3.7/site-packages (from pyresparser) (1.0.5)\n",
      "Requirement already satisfied: certifi>=2019.6.16 in /opt/conda/lib/python3.7/site-packages (from pyresparser) (2020.6.20)\n",
      "Requirement already satisfied: pyrsistent>=0.15.2 in /opt/conda/lib/python3.7/site-packages (from pyresparser) (0.17.3)\n",
      "Requirement already satisfied: pytz>=2019.1 in /opt/conda/lib/python3.7/site-packages (from pyresparser) (2021.1)\n",
      "Requirement already satisfied: chardet>=3.0.4 in /opt/conda/lib/python3.7/site-packages (from pyresparser) (3.0.4)\n",
      "Requirement already satisfied: six>=1.12.0 in /opt/conda/lib/python3.7/site-packages (from pyresparser) (1.15.0)\n",
      "Requirement already satisfied: thinc>=7.0.4 in /opt/conda/lib/python3.7/site-packages (from pyresparser) (7.4.5)\n",
      "Requirement already satisfied: sortedcontainers>=2.1.0 in /opt/conda/lib/python3.7/site-packages (from pyresparser) (2.4.0)\n"
     ]
    },
    {
     "name": "stdout",
     "output_type": "stream",
     "text": [
      "Requirement already satisfied: importlib-metadata in /opt/conda/lib/python3.7/site-packages (from jsonschema>=3.0.1->pyresparser) (4.0.1)\n",
      "Requirement already satisfied: setuptools in /opt/conda/lib/python3.7/site-packages (from jsonschema>=3.0.1->pyresparser) (49.6.0.post20210108)\n",
      "Requirement already satisfied: click in /opt/conda/lib/python3.7/site-packages (from nltk>=3.4.3->pyresparser) (7.1.2)\n",
      "Requirement already satisfied: joblib in /opt/conda/lib/python3.7/site-packages (from nltk>=3.4.3->pyresparser) (1.0.1)\n",
      "Requirement already satisfied: regex in /opt/conda/lib/python3.7/site-packages (from nltk>=3.4.3->pyresparser) (2021.4.4)\n",
      "Requirement already satisfied: cryptography in /opt/conda/lib/python3.7/site-packages (from pdfminer.six>=20181108->pyresparser) (3.4.7)\n",
      "Requirement already satisfied: murmurhash<1.1.0,>=0.28.0 in /opt/conda/lib/python3.7/site-packages (from preshed>=2.0.1->pyresparser) (1.0.5)\n",
      "Requirement already satisfied: plac<1.2.0,>=0.9.6 in /opt/conda/lib/python3.7/site-packages (from spacy>=2.1.4->pyresparser) (1.1.3)\n",
      "Requirement already satisfied: catalogue<1.1.0,>=0.0.7 in /opt/conda/lib/python3.7/site-packages (from spacy>=2.1.4->pyresparser) (1.0.0)\n",
      "Requirement already satisfied: zipp>=0.5 in /opt/conda/lib/python3.7/site-packages (from importlib-metadata->jsonschema>=3.0.1->pyresparser) (3.4.1)\n",
      "Requirement already satisfied: typing-extensions>=3.6.4 in /opt/conda/lib/python3.7/site-packages (from importlib-metadata->jsonschema>=3.0.1->pyresparser) (3.7.4.3)\n",
      "Requirement already satisfied: cffi>=1.12 in /opt/conda/lib/python3.7/site-packages (from cryptography->pdfminer.six>=20181108->pyresparser) (1.14.5)\n",
      "Requirement already satisfied: pycparser in /opt/conda/lib/python3.7/site-packages (from cffi>=1.12->cryptography->pdfminer.six>=20181108->pyresparser) (2.20)\n",
      "Collecting spacy\n",
      "\u001b[?25l  Downloading https://files.pythonhosted.org/packages/6d/0d/4379e9aa35a444b6440ffe1af4c612533460e0d5ac5c7dca1f96ff6f2e23/spacy-3.0.6.tar.gz (7.1MB)\n",
      "\u001b[K    100% |████████████████████████████████| 7.1MB 210kB/s eta 0:00:01    41% |█████████████▍                  | 3.0MB 34.3MB/s eta 0:00:01\n",
      "\u001b[?25h  Installing build dependencies ... \u001b[?25lerror\n",
      "  Complete output from command /usr/bin/python3 -m pip install --ignore-installed --no-user --prefix /tmp/pip-build-env-cnfurlgg --no-warn-script-location --no-binary :none: --only-binary :none: -i https://pypi.org/simple -- setuptools cython>=0.25 cymem>=2.0.2,<2.1.0 preshed>=3.0.2,<3.1.0 murmurhash>=0.28.0,<1.1.0 thinc>=8.0.3,<8.1.0 blis>=0.4.0,<0.8.0 pathy numpy>=1.15.0:\n",
      "  Collecting setuptools\n",
      "    Downloading https://files.pythonhosted.org/packages/4e/78/56aa1b5f4d8ac548755ae767d84f0be54fdd9d404197a3d9e4659d272348/setuptools-57.0.0-py3-none-any.whl (821kB)\n",
      "  Collecting cython>=0.25\n",
      "    Downloading https://files.pythonhosted.org/packages/0c/15/cca3ac44776df9ee27286941315dd8b14a598e8d80970200d05f720b9274/Cython-0.29.23-cp37-cp37m-manylinux1_x86_64.whl (2.0MB)\n",
      "  Collecting cymem<2.1.0,>=2.0.2\n",
      "    Downloading https://files.pythonhosted.org/packages/3e/fb/5899a59ee8d0f02202c1f02fe47671e0c93d1812b1deb2491505718473da/cymem-2.0.5.tar.gz\n",
      "    Installing build dependencies: started\n",
      "    Installing build dependencies: finished with status 'done'\n",
      "  Collecting preshed<3.1.0,>=3.0.2\n",
      "    Downloading https://files.pythonhosted.org/packages/af/6e/0605ffc1c3861cce4d029a9724f302232f993fe9d0dc6c04fb7bc49b7852/preshed-3.0.5-cp37-cp37m-manylinux1_x86_64.whl (126kB)\n",
      "  Collecting murmurhash<1.1.0,>=0.28.0\n",
      "    Downloading https://files.pythonhosted.org/packages/08/82/917eb137b3e85060e4f7c8dc991fccfafb47aa1f6f59fdd63f406159b03e/murmurhash-1.0.5-cp37-cp37m-manylinux1_x86_64.whl\n",
      "  Collecting thinc<8.1.0,>=8.0.3\n",
      "    Downloading https://files.pythonhosted.org/packages/a5/dd/cb9189de626e8b3c201fea66af03cb4b8d45b326db6d40f2039553751167/thinc-8.0.3.tar.gz (624kB)\n",
      "    Installing build dependencies: started\n",
      "    Installing build dependencies: finished with status 'error'\n",
      "    Complete output from command /usr/bin/python3 -m pip install --ignore-installed --no-user --prefix /tmp/pip-build-env-504hk52o --no-warn-script-location --no-binary :none: --only-binary :none: -i https://pypi.org/simple -- setuptools cython>=0.25 murmurhash>=0.28.0,<1.1.0 cymem>=2.0.2,<2.1.0 preshed>=3.0.2,<3.1.0 blis>=0.4.0,<0.8.0 numpy>=1.15.0:\n",
      "    Collecting setuptools\n",
      "      Using cached https://files.pythonhosted.org/packages/4e/78/56aa1b5f4d8ac548755ae767d84f0be54fdd9d404197a3d9e4659d272348/setuptools-57.0.0-py3-none-any.whl\n",
      "    Collecting cython>=0.25\n",
      "      Using cached https://files.pythonhosted.org/packages/0c/15/cca3ac44776df9ee27286941315dd8b14a598e8d80970200d05f720b9274/Cython-0.29.23-cp37-cp37m-manylinux1_x86_64.whl\n",
      "    Collecting murmurhash<1.1.0,>=0.28.0\n",
      "      Using cached https://files.pythonhosted.org/packages/08/82/917eb137b3e85060e4f7c8dc991fccfafb47aa1f6f59fdd63f406159b03e/murmurhash-1.0.5-cp37-cp37m-manylinux1_x86_64.whl\n",
      "    Collecting cymem<2.1.0,>=2.0.2\n",
      "      Using cached https://files.pythonhosted.org/packages/3e/fb/5899a59ee8d0f02202c1f02fe47671e0c93d1812b1deb2491505718473da/cymem-2.0.5.tar.gz\n",
      "      Installing build dependencies: started\n",
      "      Installing build dependencies: finished with status 'done'\n",
      "    Collecting preshed<3.1.0,>=3.0.2\n",
      "      Using cached https://files.pythonhosted.org/packages/af/6e/0605ffc1c3861cce4d029a9724f302232f993fe9d0dc6c04fb7bc49b7852/preshed-3.0.5-cp37-cp37m-manylinux1_x86_64.whl\n",
      "    Collecting blis<0.8.0,>=0.4.0\n",
      "      Downloading https://files.pythonhosted.org/packages/b1/54/b0de9905ee80aebd64c333bc112cacfe06849a9b5a7230a02dfde73e7aad/blis-0.7.4.tar.gz (2.8MB)\n",
      "      Installing build dependencies: started\n",
      "      Installing build dependencies: finished with status 'done'\n",
      "        Complete output from command python setup.py egg_info:\n",
      "        BLIS_COMPILER? None\n",
      "        WARNING: pip versions <19.3 (currently installed: 18.1) are unable to detect binary wheel compatibility for blis. To avoid a source install with a very long compilation time, please upgrade pip with `pip install --upgrade pip`.\n",
      "  \n",
      "        If you know what you're doing and you really want to compile blis from source, please set the environment variable BLIS_REALLY_COMPILE=1.\n",
      "  \n",
      "        ----------------------------------------\n",
      "    Command \"python setup.py egg_info\" failed with error code 1 in /tmp/pip-install-j5esp2a2/blis/\n",
      "  \n",
      "    ----------------------------------------\n",
      "  Command \"/usr/bin/python3 -m pip install --ignore-installed --no-user --prefix /tmp/pip-build-env-504hk52o --no-warn-script-location --no-binary :none: --only-binary :none: -i https://pypi.org/simple -- setuptools cython>=0.25 murmurhash>=0.28.0,<1.1.0 cymem>=2.0.2,<2.1.0 preshed>=3.0.2,<3.1.0 blis>=0.4.0,<0.8.0 numpy>=1.15.0\" failed with error code 1 in None\n",
      "  \n",
      "  ----------------------------------------\n",
      "\u001b[31mCommand \"/usr/bin/python3 -m pip install --ignore-installed --no-user --prefix /tmp/pip-build-env-cnfurlgg --no-warn-script-location --no-binary :none: --only-binary :none: -i https://pypi.org/simple -- setuptools cython>=0.25 cymem>=2.0.2,<2.1.0 preshed>=3.0.2,<3.1.0 murmurhash>=0.28.0,<1.1.0 thinc>=8.0.3,<8.1.0 blis>=0.4.0,<0.8.0 pathy numpy>=1.15.0\" failed with error code 1 in None\u001b[0m\n",
      "\u001b[?25hCollecting en_core_web_sm==2.3.1\n",
      "  Downloading https://github.com/explosion/spacy-models/releases/download/en_core_web_sm-2.3.1/en_core_web_sm-2.3.1.tar.gz (12.0 MB)\n",
      "\u001b[K     |████████████████████████████████| 12.0 MB 7.8 MB/s eta 0:00:01    |█████                           | 1.9 MB 7.8 MB/s eta 0:00:02     |████████▍                       | 3.2 MB 7.8 MB/s eta 0:00:02     |█████████████                   | 4.9 MB 7.8 MB/s eta 0:00:01\n",
      "\u001b[?25hRequirement already satisfied: spacy<2.4.0,>=2.3.0 in /opt/conda/lib/python3.7/site-packages (from en_core_web_sm==2.3.1) (2.3.5)\n",
      "Requirement already satisfied: murmurhash<1.1.0,>=0.28.0 in /opt/conda/lib/python3.7/site-packages (from spacy<2.4.0,>=2.3.0->en_core_web_sm==2.3.1) (1.0.5)\n",
      "Requirement already satisfied: setuptools in /opt/conda/lib/python3.7/site-packages (from spacy<2.4.0,>=2.3.0->en_core_web_sm==2.3.1) (49.6.0.post20210108)\n",
      "Requirement already satisfied: thinc<7.5.0,>=7.4.1 in /opt/conda/lib/python3.7/site-packages (from spacy<2.4.0,>=2.3.0->en_core_web_sm==2.3.1) (7.4.5)\n",
      "Requirement already satisfied: preshed<3.1.0,>=3.0.2 in /opt/conda/lib/python3.7/site-packages (from spacy<2.4.0,>=2.3.0->en_core_web_sm==2.3.1) (3.0.5)\n",
      "Requirement already satisfied: cymem<2.1.0,>=2.0.2 in /opt/conda/lib/python3.7/site-packages (from spacy<2.4.0,>=2.3.0->en_core_web_sm==2.3.1) (2.0.5)\n",
      "Requirement already satisfied: blis<0.8.0,>=0.4.0 in /opt/conda/lib/python3.7/site-packages (from spacy<2.4.0,>=2.3.0->en_core_web_sm==2.3.1) (0.7.4)\n",
      "Requirement already satisfied: catalogue<1.1.0,>=0.0.7 in /opt/conda/lib/python3.7/site-packages (from spacy<2.4.0,>=2.3.0->en_core_web_sm==2.3.1) (1.0.0)\n",
      "Requirement already satisfied: numpy>=1.15.0 in /opt/conda/lib/python3.7/site-packages (from spacy<2.4.0,>=2.3.0->en_core_web_sm==2.3.1) (1.19.5)\n",
      "Requirement already satisfied: srsly<1.1.0,>=1.0.2 in /opt/conda/lib/python3.7/site-packages (from spacy<2.4.0,>=2.3.0->en_core_web_sm==2.3.1) (1.0.5)\n",
      "Requirement already satisfied: plac<1.2.0,>=0.9.6 in /opt/conda/lib/python3.7/site-packages (from spacy<2.4.0,>=2.3.0->en_core_web_sm==2.3.1) (1.1.3)\n",
      "Requirement already satisfied: tqdm<5.0.0,>=4.38.0 in /opt/conda/lib/python3.7/site-packages (from spacy<2.4.0,>=2.3.0->en_core_web_sm==2.3.1) (4.60.0)\n",
      "Requirement already satisfied: wasabi<1.1.0,>=0.4.0 in /opt/conda/lib/python3.7/site-packages (from spacy<2.4.0,>=2.3.0->en_core_web_sm==2.3.1) (0.8.2)\n",
      "Requirement already satisfied: requests<3.0.0,>=2.13.0 in /opt/conda/lib/python3.7/site-packages (from spacy<2.4.0,>=2.3.0->en_core_web_sm==2.3.1) (2.24.0)\n"
     ]
    },
    {
     "name": "stdout",
     "output_type": "stream",
     "text": [
      "Requirement already satisfied: importlib-metadata>=0.20 in /opt/conda/lib/python3.7/site-packages (from catalogue<1.1.0,>=0.0.7->spacy<2.4.0,>=2.3.0->en_core_web_sm==2.3.1) (4.0.1)\n",
      "Requirement already satisfied: zipp>=0.5 in /opt/conda/lib/python3.7/site-packages (from importlib-metadata>=0.20->catalogue<1.1.0,>=0.0.7->spacy<2.4.0,>=2.3.0->en_core_web_sm==2.3.1) (3.4.1)\n",
      "Requirement already satisfied: typing-extensions>=3.6.4 in /opt/conda/lib/python3.7/site-packages (from importlib-metadata>=0.20->catalogue<1.1.0,>=0.0.7->spacy<2.4.0,>=2.3.0->en_core_web_sm==2.3.1) (3.7.4.3)\n",
      "Requirement already satisfied: idna<3,>=2.5 in /opt/conda/lib/python3.7/site-packages (from requests<3.0.0,>=2.13.0->spacy<2.4.0,>=2.3.0->en_core_web_sm==2.3.1) (2.10)\n",
      "Requirement already satisfied: chardet<4,>=3.0.2 in /opt/conda/lib/python3.7/site-packages (from requests<3.0.0,>=2.13.0->spacy<2.4.0,>=2.3.0->en_core_web_sm==2.3.1) (3.0.4)\n",
      "Requirement already satisfied: certifi>=2017.4.17 in /opt/conda/lib/python3.7/site-packages (from requests<3.0.0,>=2.13.0->spacy<2.4.0,>=2.3.0->en_core_web_sm==2.3.1) (2020.6.20)\n",
      "Requirement already satisfied: urllib3!=1.25.0,!=1.25.1,<1.26,>=1.21.1 in /opt/conda/lib/python3.7/site-packages (from requests<3.0.0,>=2.13.0->spacy<2.4.0,>=2.3.0->en_core_web_sm==2.3.1) (1.25.9)\n",
      "\u001b[38;5;2m✔ Download and installation successful\u001b[0m\n",
      "You can now load the model via spacy.load('en_core_web_sm')\n",
      "\u001b[38;5;2m✔ Linking successful\u001b[0m\n",
      "/opt/conda/lib/python3.7/site-packages/en_core_web_sm -->\n",
      "/opt/conda/lib/python3.7/site-packages/spacy/data/en\n",
      "You can now load the model via spacy.load('en')\n"
     ]
    }
   ],
   "source": [
    "!pip install nltk\n",
    "!pip install spacy==2.3.5\n",
    "!pip install https://github.com/explosion/spacy-models/releases/download/en_core_web_sm-2.3.1/en_core_web_sm-2.3.1.tar.gz\n",
    "!pip install pyresparser\n",
    "!sudo pip3 install -U spacy\n",
    "!python3 -m spacy download en\n"
   ]
  },
  {
   "cell_type": "code",
   "execution_count": 19,
   "id": "7e8c8edf",
   "metadata": {
    "scrolled": false
   },
   "outputs": [],
   "source": [
    "spacy.load('en', disable=['ner', 'parser', 'tagger'])\n",
    "# nlp = spacy.load('en_core_web_sm')\n",
    "\n",
    "# def tokenizer(text): # create a tokenizer function\n",
    "#     return [tok.text for tok in nlp.tokenizer(text)]\n",
    "def tokenize(s):\n",
    "    return s.split(' ')\n",
    "\n",
    "TEXT = data.Field(tokenize=tokenize, lower=True, include_lengths=True)\n",
    "UPVOTE = data.LabelField(sequential=False, use_vocab=False, dtype=torch.int64)\n",
    "CHANGE = data.LabelField(sequential=False, use_vocab=False, dtype=torch.float)\n",
    "LABEL = data.LabelField(sequential=False, use_vocab=False, dtype=torch.int64)"
   ]
  },
  {
   "cell_type": "code",
   "execution_count": 12,
   "id": "ce715586",
   "metadata": {},
   "outputs": [],
   "source": [
    "def create_csv():\n",
    "    with open('removed_characters.csv') as in_file:\n",
    "        with open('removed_characters_buckets.csv', 'w') as out_file:\n",
    "            reader = csv.reader(in_file, delimiter=',')\n",
    "            writer = csv.writer(out_file)\n",
    "            for row in reader:\n",
    "                text = row[0].split(', ')\n",
    "                text = ' '.join(text)\n",
    "                row_data = [text]\n",
    "                row_data.extend(row[-3:-1])\n",
    "                label = 1 - float(row[-1])\n",
    "                # Strong buy\n",
    "                if label >= .03:\n",
    "                    label = 0\n",
    "                # Buy\n",
    "                elif .01 < label < .03:\n",
    "                    label = 1\n",
    "                # Hold\n",
    "                elif -.01 <= label <= .01:\n",
    "                    label = 2\n",
    "                # Sell\n",
    "                elif -.01 > label > -.03:\n",
    "                    label = 3\n",
    "                else:\n",
    "                    label = 4\n",
    "                row_data.append(label)\n",
    "                writer.writerow(row_data)\n",
    "    in_file.close()"
   ]
  },
  {
   "cell_type": "code",
   "execution_count": 13,
   "id": "12ca67ed",
   "metadata": {},
   "outputs": [],
   "source": [
    "def data_preprocess(max_vocab_size, device, batch_size):\n",
    "\n",
    "    # Map data to fields\n",
    "    fields_text = [('text', TEXT), ('upvote', UPVOTE), ('change', CHANGE), ('label', LABEL)]\n",
    "\n",
    "    # Apply field definition to create torch dataset\n",
    "    dataset = data.TabularDataset(\n",
    "        path=\"removed_characters_buckets.csv\",\n",
    "        format=\"CSV\",\n",
    "        fields=fields_text,\n",
    "        skip_header=False)\n",
    "\n",
    "    # Split data into train, test, validation sets\n",
    "    (train_data, test_data, valid_data) = dataset.split(split_ratio=[0.8, 0.1, 0.1])\n",
    "\n",
    "    print(\"Number of train data: {}\".format(len(train_data)))\n",
    "    print(\"Number of test data: {}\".format(len(test_data)))\n",
    "    print(\"Number of validation data: {}\".format(len(valid_data)))\n",
    "\n",
    "    # unk_init initializes words in the vocab using the Gaussian distribution\n",
    "    TEXT.build_vocab(train_data,\n",
    "                     max_size=max_vocab_size,\n",
    "                     vectors=\"glove.6B.100d\",\n",
    "                     unk_init=torch.Tensor.normal_)\n",
    "\n",
    "    train_iterator, valid_iterator, test_iterator = data.BucketIterator.splits(\n",
    "        (train_data, valid_data, test_data),\n",
    "        device=device,\n",
    "        batch_sizes=(batch_size, batch_size, batch_size),\n",
    "        sort_key=lambda x: len(x.text),\n",
    "        sort_within_batch=False)\n",
    "\n",
    "    return train_iterator, valid_iterator, test_iterator"
   ]
  },
  {
   "cell_type": "code",
   "execution_count": 37,
   "id": "30dda35e",
   "metadata": {},
   "outputs": [],
   "source": [
    "train = True\n",
    "batch_size = 449\n",
    "hidden_size = 256\n",
    "drop_prob = 0.5\n",
    "learning_rate = 1e-2 # TODO: hyper\n",
    "num_epochs = 100\n",
    "beta1, beta2 = 0.9, 0.999 # for Adam\n",
    "alpha = 0.2 # for ELU # TODO: hyper\n",
    "max_grad_norm = 1.0\n",
    "print_every = 50\n",
    "save_dir = 'results/model.path_lr_{:.4}_drop_prob_{:.4}_alpha_{:.4}.tar'.format(learning_rate, drop_prob, alpha)\n",
    "\n",
    "device, gpu_ids = get_available_devices()"
   ]
  },
  {
   "cell_type": "code",
   "execution_count": 15,
   "id": "a5842d29",
   "metadata": {},
   "outputs": [],
   "source": [
    "create_csv()\n",
    "# train_iterator, valid_iterator, test_iterator = data_preprocess(25000, device, batch_size)"
   ]
  },
  {
   "cell_type": "code",
   "execution_count": 20,
   "id": "f8686e8e",
   "metadata": {},
   "outputs": [],
   "source": [
    "fields_text = [('text', TEXT), ('upvote', UPVOTE), ('change', CHANGE), ('label', LABEL)]\n",
    "\n",
    "# Apply field definition to create torch dataset\n",
    "dataset = data.TabularDataset(\n",
    "    path=\"removed_characters_buckets.csv\",\n",
    "    format=\"CSV\",\n",
    "    fields=fields_text,\n",
    "    skip_header=False)"
   ]
  },
  {
   "cell_type": "code",
   "execution_count": 21,
   "id": "bc5abee4",
   "metadata": {},
   "outputs": [
    {
     "name": "stdout",
     "output_type": "stream",
     "text": [
      "Number of train data: 145027\n",
      "Number of test data: 18129\n",
      "Number of validation data: 18128\n"
     ]
    }
   ],
   "source": [
    "# Split data into train, test, validation sets\n",
    "(train_data, test_data, valid_data) = dataset.split(split_ratio=[0.8, 0.1, 0.1])\n",
    "\n",
    "print(\"Number of train data: {}\".format(len(train_data)))\n",
    "print(\"Number of test data: {}\".format(len(test_data)))\n",
    "print(\"Number of validation data: {}\".format(len(valid_data)))"
   ]
  },
  {
   "cell_type": "code",
   "execution_count": 27,
   "id": "bebcb7a3",
   "metadata": {},
   "outputs": [
    {
     "name": "stdout",
     "output_type": "stream",
     "text": [
      "Sample 0: {'text': ['spy', 'making', 'the', 'ol', 'ski', 'jump', 'pattern'], 'upvote': '6', 'change': '1.0006460879476995', 'label': '2'}\n",
      "Sample 1: {'text': ['spy', 'opening', 'it', 's', 'butthole', 'for', 'tsla', 'inclusion'], 'upvote': '5', 'change': '1.0057336878130712', 'label': '2'}\n",
      "Sample 2: {'text': ['thinking', 'about', 'buying', '', 'amc', 'c', '', 'as', 'a', 'yolo', 'if', 'they', 'survive', 'this', 'pandemic', 'and', 'don', 't', 'shutter', 'completely', 'this', 'is', 'all', 'off', 'a', 'gut', 'feeling', 'that', 'whoever', 'put', 'their', 'money', 'into', 'this', 'a', 'few', 'years', 'ago', 'is', 'going', 'to', 'do', 'everything', 'to', 'keep', 'it', 'from', 'dying'], 'upvote': '4', 'change': '0.8698884254252404', 'label': '4'}\n"
     ]
    }
   ],
   "source": [
    "for i in range(3):\n",
    "    print(f'Sample {i}: {vars(train_data[i])}')"
   ]
  },
  {
   "cell_type": "code",
   "execution_count": 35,
   "id": "aa9e1326",
   "metadata": {},
   "outputs": [],
   "source": [
    "# unk_init initializes words in the vocab using the Gaussian distribution\n",
    "TEXT.build_vocab(train_data,\n",
    "                 max_size=25000,\n",
    "                 vectors=\"glove.6B.100d\",\n",
    "                 unk_init=torch.Tensor.normal_)\n",
    "\n",
    "train_iterator, valid_iterator, test_iterator = data.BucketIterator.splits(\n",
    "    (train_data, valid_data, test_data),\n",
    "    device=device,\n",
    "    batch_sizes=(batch_size, batch_size, batch_size),\n",
    "    sort_key=lambda x: len(x.text),\n",
    "    sort_within_batch=False)"
   ]
  },
  {
   "cell_type": "code",
   "execution_count": 29,
   "id": "b166921e",
   "metadata": {},
   "outputs": [],
   "source": [
    "# Initialize model.\n",
    "model = MovementPredictor(\n",
    "    vocab_size=287799,\n",
    "    embedding_dim=100,\n",
    "    hidden_dim=hidden_size,\n",
    "    n_layers=2,\n",
    "    bidirectional=True,\n",
    "    dropout=drop_prob,\n",
    "    pad_idx=TEXT.vocab.stoi[TEXT.pad_token],\n",
    "    alpha=alpha\n",
    ")\n",
    "\n",
    "# pretrained_embeddings = TEXT.vocab.vectors\n",
    "# model.embedding.weight.data.copy_(pretrained_embeddings)\n",
    "\n",
    "model = nn.DataParallel(model, gpu_ids)\n",
    "\n",
    "# Initialize optimizer and scheduler.\n",
    "optimizer = optim.Adam(model.parameters(), lr=learning_rate, betas=(beta1, beta2))\n",
    "#scheduler = sched.LambdaLR(optimizer, lambda s: 1.)"
   ]
  },
  {
   "cell_type": "markdown",
   "id": "a5954ac0",
   "metadata": {},
   "source": [
    "# Training"
   ]
  },
  {
   "cell_type": "code",
   "execution_count": 36,
   "id": "27beb23a",
   "metadata": {},
   "outputs": [
    {
     "name": "stdout",
     "output_type": "stream",
     "text": [
      "Epoch:0, Iter: 0, Loss:0.7637\n",
      "Epoch:0, Iter: 50, Loss:0.7625\n",
      "Epoch:0, Iter: 100, Loss:0.7601\n"
     ]
    },
    {
     "ename": "IndexError",
     "evalue": "shape mismatch: indexing tensors could not be broadcast together with shapes [1024], [643]",
     "output_type": "error",
     "traceback": [
      "\u001b[0;31m---------------------------------------------------------------------------\u001b[0m",
      "\u001b[0;31mIndexError\u001b[0m                                Traceback (most recent call last)",
      "\u001b[0;32m<ipython-input-36-de81b4800c83>\u001b[0m in \u001b[0;36m<module>\u001b[0;34m\u001b[0m\n\u001b[1;32m     10\u001b[0m                 \u001b[0;31m# Grab labels.\u001b[0m\u001b[0;34m\u001b[0m\u001b[0;34m\u001b[0m\u001b[0;34m\u001b[0m\u001b[0m\n\u001b[1;32m     11\u001b[0m                 \u001b[0mtarget\u001b[0m \u001b[0;34m=\u001b[0m \u001b[0mtorch\u001b[0m\u001b[0;34m.\u001b[0m\u001b[0mzeros\u001b[0m\u001b[0;34m(\u001b[0m\u001b[0;34m(\u001b[0m\u001b[0mbatch_size\u001b[0m\u001b[0;34m,\u001b[0m \u001b[0;36m5\u001b[0m\u001b[0;34m)\u001b[0m\u001b[0;34m)\u001b[0m\u001b[0;34m\u001b[0m\u001b[0;34m\u001b[0m\u001b[0m\n\u001b[0;32m---> 12\u001b[0;31m                 \u001b[0mtarget\u001b[0m\u001b[0;34m[\u001b[0m\u001b[0mtorch\u001b[0m\u001b[0;34m.\u001b[0m\u001b[0marange\u001b[0m\u001b[0;34m(\u001b[0m\u001b[0mbatch_size\u001b[0m\u001b[0;34m)\u001b[0m\u001b[0;34m,\u001b[0m \u001b[0mvector\u001b[0m\u001b[0;34m.\u001b[0m\u001b[0mlabel\u001b[0m\u001b[0;34m]\u001b[0m \u001b[0;34m=\u001b[0m \u001b[0;36m1\u001b[0m\u001b[0;34m\u001b[0m\u001b[0;34m\u001b[0m\u001b[0m\n\u001b[0m\u001b[1;32m     13\u001b[0m                 \u001b[0;31m# Grab other data for multimodal sentiment analysis.\u001b[0m\u001b[0;34m\u001b[0m\u001b[0;34m\u001b[0m\u001b[0;34m\u001b[0m\u001b[0m\n\u001b[1;32m     14\u001b[0m                 multimodal_data = torch.cat((vector.upvote.unsqueeze(dim=1),\n",
      "\u001b[0;31mIndexError\u001b[0m: shape mismatch: indexing tensors could not be broadcast together with shapes [1024], [643]"
     ]
    }
   ],
   "source": [
    "iter = 0\n",
    "checkpoint = 0\n",
    "\n",
    "if train:\n",
    "    for epoch in range(num_epochs):\n",
    "        with torch.enable_grad():\n",
    "            for vector in train_iterator:\n",
    "                optimizer.zero_grad()\n",
    "                # Grab labels.\n",
    "                target = torch.zeros((batch_size, 5))\n",
    "                target[torch.arange(batch_size), vector.label] = 1\n",
    "                # Grab other data for multimodal sentiment analysis.\n",
    "                multimodal_data = torch.cat((vector.upvote.unsqueeze(dim=1),\n",
    "                                             vector.change.unsqueeze(dim=1)), dim=1) # Upvotes + past week change\n",
    "                # Apply model\n",
    "                y = model(vector, multimodal_data)\n",
    "                target = target.to(device)\n",
    "                loss_function = nn.BCEWithLogitsLoss()\n",
    "                loss = loss_function(y, target)\n",
    "                loss_val = loss.item()\n",
    "\n",
    "                # Backward\n",
    "                loss.backward()\n",
    "                nn.utils.clip_grad_norm_(model.parameters(), max_grad_norm)\n",
    "                optimizer.step()\n",
    "                #scheduler.step(step // batch_size)\n",
    "                if iter % print_every == 0:\n",
    "                    print('Epoch:{}, Iter: {}, Loss:{:.4}'.format(epoch, iter, loss.item()))\n",
    "                iter += 1\n",
    "\n",
    "            torch.save(model, save_dir)\n",
    "            if checkpoint % 3 == 0:\n",
    "                print(\"evaluating on dev split...\")\n",
    "                loss_val, accuracy = evaluate(model, test_iterator, device)\n",
    "                print(\"dev loss: \", loss_val, \"dev accuracy: \", accuracy)\n",
    "                checkpoint += 1"
   ]
  },
  {
   "cell_type": "markdown",
   "id": "0a485e13",
   "metadata": {},
   "source": [
    "# Testing"
   ]
  },
  {
   "cell_type": "code",
   "execution_count": null,
   "id": "058253eb",
   "metadata": {},
   "outputs": [],
   "source": [
    "print(\"testing data, loading from path\" + save_dir + \" ...\")\n",
    "    model = torch.load(save_dir)\n",
    "    loss_val, accuracy = evaluate(model, test_iterator, criterion=nn.BCEWithLogitsLoss())\n",
    "    print(\"test loss: \", loss_val, \"test accuracy: \", accuracy)"
   ]
  }
 ],
 "metadata": {
  "kernelspec": {
   "display_name": "Python 3",
   "language": "python",
   "name": "python3"
  },
  "language_info": {
   "codemirror_mode": {
    "name": "ipython",
    "version": 3
   },
   "file_extension": ".py",
   "mimetype": "text/x-python",
   "name": "python",
   "nbconvert_exporter": "python",
   "pygments_lexer": "ipython3",
   "version": "3.7.10"
  }
 },
 "nbformat": 4,
 "nbformat_minor": 5
}
