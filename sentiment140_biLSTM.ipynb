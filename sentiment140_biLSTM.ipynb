{
 "cells": [
  {
   "cell_type": "markdown",
   "metadata": {
    "colab_type": "text",
    "id": "Q1nja3002K6d"
   },
   "source": [
    "# **NLP - Sentiment Analysis of Tweets using biLSTM**\n",
    "1. [Dataset Preparation](#section1)\n",
    "2. [Preprocessing](#section2)\n",
    "3. [Model](#section3)\n",
    "4. [Training](#section4)\n",
    "5. [Prediction](#section5)"
   ]
  },
  {
   "cell_type": "code",
   "execution_count": 9,
   "metadata": {
    "colab": {},
    "colab_type": "code",
    "id": "-YaKdyDBXxeK"
   },
   "outputs": [],
   "source": [
    "import csv\n",
    "import pandas as pd\n",
    "import numpy as np\n",
    "import time\n",
    "import spacy\n",
    "import random\n",
    "from pathlib import Path\n",
    "import torch \n",
    "import torch.nn as nn\n",
    "import torch.nn.functional as F\n",
    "import torch.optim as optim\n",
    "from torchtext.legacy import data \n",
    "import torchtext\n",
    "from nltk.tokenize.treebank import TreebankWordDetokenizer"
   ]
  },
  {
   "cell_type": "code",
   "execution_count": 10,
   "metadata": {},
   "outputs": [
    {
     "data": {
      "text/plain": [
       "'1.8.1'"
      ]
     },
     "execution_count": 10,
     "metadata": {},
     "output_type": "execute_result"
    }
   ],
   "source": [
    "torch.__version__"
   ]
  },
  {
   "cell_type": "code",
   "execution_count": 11,
   "metadata": {},
   "outputs": [],
   "source": [
    "create_subset = False # set to false if sentiment140-small-tokenized.csv already exists"
   ]
  },
  {
   "cell_type": "code",
   "execution_count": 12,
   "metadata": {
    "colab": {
     "base_uri": "https://localhost:8080/",
     "height": 125
    },
    "colab_type": "code",
    "id": "OFnqfIft6H-o",
    "outputId": "77aab575-7dd4-4535-b2d1-0bd5cfd46623"
   },
   "outputs": [
    {
     "name": "stdout",
     "output_type": "stream",
     "text": [
      "Using device: cuda\n",
      "GeForce GTX 1080 Ti\n",
      "Memory Usage:\n",
      "Allocated: 0.0 GB\n",
      "Cached:    0.0 GB\n"
     ]
    }
   ],
   "source": [
    "# Setting device on GPU if available\n",
    "device = torch.device('cuda' if torch.cuda.is_available() else 'cpu')\n",
    "print('Using device:', device)\n",
    "\n",
    "if device.type == 'cuda':\n",
    "    print(torch.cuda.get_device_name(0))\n",
    "    print('Memory Usage:')\n",
    "    print('Allocated:', round(torch.cuda.memory_allocated(0)/1024**3,1), 'GB')\n",
    "    print('Cached:   ', round(torch.cuda.memory_reserved(0)/1024**3,1), 'GB')\n",
    "\n",
    "torch.backends.cudnn.deterministic = True"
   ]
  },
  {
   "cell_type": "markdown",
   "metadata": {
    "colab_type": "text",
    "id": "NddQVfQD37dO"
   },
   "source": [
    "<a id='section1'></a>\n",
    "# **1. Dataset Preparation**\n",
    "The first column contains the sentiments and the last column contains the tweets."
   ]
  },
  {
   "cell_type": "code",
   "execution_count": 13,
   "metadata": {
    "colab": {
     "base_uri": "https://localhost:8080/",
     "height": 204
    },
    "colab_type": "code",
    "id": "nFyis9DPYpmg",
    "outputId": "2c58e9c9-034e-48dd-9089-5b65d7950ece"
   },
   "outputs": [],
   "source": [
    "if create_subset:\n",
    "    # Read in data into a dataframe\n",
    "    df = pd.read_csv(\"training.1600000.processed.noemoticon.csv\", engine=\"python\", header=None)\n",
    "\n",
    "    df.head(5)"
   ]
  },
  {
   "cell_type": "markdown",
   "metadata": {
    "colab_type": "text",
    "id": "YJ22CrBo4LEm"
   },
   "source": [
    "The dataset consists of two sentiments (0 - negative, 4 - positive)"
   ]
  },
  {
   "cell_type": "code",
   "execution_count": 14,
   "metadata": {
    "colab": {
     "base_uri": "https://localhost:8080/",
     "height": 71
    },
    "colab_type": "code",
    "id": "dl0IKQQMdtTR",
    "outputId": "dcfd8399-7026-4345-fd12-6024e00ac17e"
   },
   "outputs": [],
   "source": [
    "if create_subset:\n",
    "    # Count the number of tweets per sentiment\n",
    "    df[0].value_counts()"
   ]
  },
  {
   "cell_type": "code",
   "execution_count": 15,
   "metadata": {
    "colab": {
     "base_uri": "https://localhost:8080/",
     "height": 71
    },
    "colab_type": "code",
    "id": "6CSfGCIF5Thr",
    "outputId": "b7412833-092d-4990-d7e5-e6d97a2319fa"
   },
   "outputs": [],
   "source": [
    "if create_subset:\n",
    "    # Model the sentiments as binary (0 - negative, 1 - positive)\n",
    "    df[0]=df[0].replace(to_replace=4,value=1)\n",
    "    df[0].value_counts()"
   ]
  },
  {
   "cell_type": "code",
   "execution_count": 17,
   "metadata": {},
   "outputs": [
    {
     "name": "stderr",
     "output_type": "stream",
     "text": [
      "[nltk_data] Downloading package wordnet to /home/rshuai/nltk_data...\n",
      "[nltk_data]   Package wordnet is already up-to-date!\n",
      "[nltk_data] Downloading package stopwords to /home/rshuai/nltk_data...\n",
      "[nltk_data]   Package stopwords is already up-to-date!\n",
      "[nltk_data] Downloading package vader_lexicon to\n",
      "[nltk_data]     /home/rshuai/nltk_data...\n",
      "[nltk_data]   Package vader_lexicon is already up-to-date!\n"
     ]
    }
   ],
   "source": [
    "from sentiment_util import tokenize_csv\n",
    "\n",
    "if create_subset:\n",
    "    # Save a subset as a smaller dataset from training\n",
    "    df.sample(500000).to_csv(\"sentiment140-small.csv\", header=None, index=None)\n",
    "    # remove stopwords, punctuation, and make everything lowercase\n",
    "    tokenize_csv('sentiment140-small.csv', 'sentiment140-small-tokenized.csv')"
   ]
  },
  {
   "cell_type": "markdown",
   "metadata": {
    "colab_type": "text",
    "id": "Sy5EFz2H8MqH"
   },
   "source": [
    "<a id='section2'></a>\n",
    "# **2. Preprocessing**"
   ]
  },
  {
   "cell_type": "code",
   "execution_count": 19,
   "metadata": {
    "colab": {
     "base_uri": "https://localhost:8080/",
     "height": 71
    },
    "colab_type": "code",
    "id": "eQT5JZvN8tB0",
    "outputId": "5d88197b-be9e-40c6-ec0a-526693d0c677"
   },
   "outputs": [
    {
     "name": "stdout",
     "output_type": "stream",
     "text": [
      "Number of train data: 145027\n",
      "Number of test data: 18129\n",
      "Number of validation data: 18128\n"
     ]
    }
   ],
   "source": [
    "# Declare fields for tweets and labels\n",
    "# include_lengths tells the RNN how long the actual sequences are\n",
    "spacy.load('en', disable=['ner', 'parser', 'tagger'])\n",
    "\n",
    "def tokenize(s):\n",
    "    return s.split(' ')\n",
    "\n",
    "TEXT = data.Field(tokenize=tokenize, lower=True, include_lengths=True)\n",
    "UPVOTE = data.LabelField(sequential=False, use_vocab=False, dtype=torch.int64)\n",
    "CHANGE = data.LabelField(sequential=False, use_vocab=False, dtype=torch.float)\n",
    "SENT_LABEL = data.LabelField(sequential=False, dtype=torch.int64)\n",
    "CHAN_LABEL = data.LabelField(sequential=False, dtype=torch.int64)\n",
    "\n",
    "# Map data to fields\n",
    "fields = [('text', TEXT), ('upvote', None), ('change', None), ('sent_label', SENT_LABEL), ('chan_label', None)]\n",
    "\n",
    "# Apply field definition to create torch dataset\n",
    "dataset = torchtext.legacy.data.TabularDataset(\n",
    "        path=\"reddit_sentiments.csv\",\n",
    "        format=\"CSV\",\n",
    "        fields=fields,\n",
    "        skip_header=False)\n",
    "\n",
    "# Split data into train, test, validation sets\n",
    "(train_data, test_data, valid_data) = dataset.split(split_ratio=[0.8,0.1,0.1])\n",
    "\n",
    "print(\"Number of train data: {}\".format(len(train_data)))\n",
    "print(\"Number of test data: {}\".format(len(test_data)))\n",
    "print(\"Number of validation data: {}\".format(len(valid_data)))"
   ]
  },
  {
   "cell_type": "code",
   "execution_count": 20,
   "metadata": {
    "colab": {
     "base_uri": "https://localhost:8080/",
     "height": 35
    },
    "colab_type": "code",
    "id": "mlZ9-mBFhw8L",
    "outputId": "bab39e21-7ed9-4125-d3a9-31c6bc94c5bf"
   },
   "outputs": [
    {
     "name": "stdout",
     "output_type": "stream",
     "text": [
      "{'text': ['gme', ''], 'sent_label': '0'}\n"
     ]
    }
   ],
   "source": [
    "# An example from the training set\n",
    "print(vars(train_data.examples[10]))"
   ]
  },
  {
   "cell_type": "markdown",
   "metadata": {
    "colab_type": "text",
    "id": "TwbtK5lDlJj2"
   },
   "source": [
    "### **Build Vocabulary**\n",
    "Build the vocabulary for the training set using pre-trained GloVe embeddings.\n",
    "GloVe embeddings were trained on 6 billion tokens and the embeddings are 100-dimensional."
   ]
  },
  {
   "cell_type": "code",
   "execution_count": 21,
   "metadata": {
    "colab": {
     "base_uri": "https://localhost:8080/",
     "height": 197
    },
    "colab_type": "code",
    "id": "fz_aN0Zl_Wwh",
    "outputId": "0202546b-fd25-4eb7-c76e-2bdeee054c6d"
   },
   "outputs": [
    {
     "name": "stderr",
     "output_type": "stream",
     "text": [
      ".vector_cache/glove.6B.zip: 862MB [02:43, 5.27MB/s]                              \n",
      "100%|█████████▉| 399929/400000 [00:10<00:00, 38337.11it/s]"
     ]
    },
    {
     "data": {
      "text/plain": [
       "[('', 145027),\n",
       " ('gme', 23773),\n",
       " ('spy', 19810),\n",
       " ('call', 18927),\n",
       " ('aapl', 14645),\n",
       " ('nio', 13132),\n",
       " ('tesla', 11750),\n",
       " ('today', 10517),\n",
       " ('buy', 10382),\n",
       " ('go', 9836)]"
      ]
     },
     "execution_count": 21,
     "metadata": {},
     "output_type": "execute_result"
    }
   ],
   "source": [
    "MAX_VOCAB_SIZE = 10000000\n",
    "\n",
    "# unk_init initializes words in the vocab using the Gaussian distribution\n",
    "TEXT.build_vocab(train_data, \n",
    "                 max_size = MAX_VOCAB_SIZE,\n",
    "                 vectors = \"glove.6B.100d\",\n",
    "                 unk_init = torch.Tensor.normal_)\n",
    "\n",
    "# build vocab for training set - convert words into integers\n",
    "SENT_LABEL.build_vocab(train_data)\n",
    "\n",
    "# Most frequent tokens\n",
    "TEXT.vocab.freqs.most_common(10)"
   ]
  },
  {
   "cell_type": "markdown",
   "metadata": {
    "colab_type": "text",
    "id": "3d58JkuABB1d"
   },
   "source": [
    "### **Iterator**\n",
    "Pad each tweet to be the same length to process in batch. \n",
    "The BucketIterator will group tweets of similar lengths together for minimized padding in each batch.\n"
   ]
  },
  {
   "cell_type": "code",
   "execution_count": 22,
   "metadata": {
    "colab": {},
    "colab_type": "code",
    "id": "HsrRy3dhAlSr"
   },
   "outputs": [],
   "source": [
    "BATCH_SIZE = 128\n",
    "\n",
    "# sort_within_batch sorts all the tensors within a batch by their lengths\n",
    "train_iterator, valid_iterator, test_iterator = torchtext.legacy.data.BucketIterator.splits(\n",
    "    (train_data, valid_data, test_data),\n",
    "    device = device,\n",
    "    batch_size = BATCH_SIZE,\n",
    "    sort_key = lambda x: len(x.text),\n",
    "    sort_within_batch = True)"
   ]
  },
  {
   "cell_type": "markdown",
   "metadata": {
    "colab_type": "text",
    "id": "braesWjckkJu"
   },
   "source": [
    "<a id='section3'></a>\n",
    "# **3. Model**"
   ]
  },
  {
   "cell_type": "markdown",
   "metadata": {
    "colab_type": "text",
    "id": "MAk1scwU_g3d"
   },
   "source": [
    "### **Create Model**"
   ]
  },
  {
   "cell_type": "code",
   "execution_count": 64,
   "metadata": {
    "colab": {},
    "colab_type": "code",
    "id": "P6vpUuzkdCah",
    "scrolled": false
   },
   "outputs": [
    {
     "name": "stdout",
     "output_type": "stream",
     "text": [
      "SentimentLSTM(\n",
      "  (embedding): Embedding(29151, 100, padding_idx=1)\n",
      "  (encoder): LSTM(100, 256, num_layers=2, dropout=0.5, bidirectional=True)\n",
      "  (predictor): Linear(in_features=512, out_features=1, bias=True)\n",
      "  (dropout): Dropout(p=0.5, inplace=False)\n",
      ")\n"
     ]
    }
   ],
   "source": [
    "from models.sentiment_model import SentimentLSTM\n",
    "\n",
    "INPUT_DIM = len(TEXT.vocab)\n",
    "# dim must be equal to the dim of pre-trained GloVe vectors\n",
    "EMBEDDING_DIM = 100\n",
    "HIDDEN_DIM = 256\n",
    "OUTPUT_DIM = 1\n",
    "# 2 layers of biLSTM\n",
    "N_LAYERS = 2\n",
    "BIDIRECTIONAL = True\n",
    "# Dropout probability\n",
    "DROPOUT = 0.5\n",
    "# Get pad token index from vocab\n",
    "PAD_IDX = TEXT.vocab.stoi[TEXT.pad_token]\n",
    "\n",
    "# Create an instance of LSTM class\n",
    "model = SentimentLSTM(INPUT_DIM,\n",
    "            EMBEDDING_DIM,\n",
    "            HIDDEN_DIM,\n",
    "            OUTPUT_DIM,\n",
    "            N_LAYERS,\n",
    "            BIDIRECTIONAL,\n",
    "            DROPOUT,\n",
    "            PAD_IDX)\n",
    "\n",
    "print(model)"
   ]
  },
  {
   "cell_type": "code",
   "execution_count": 65,
   "metadata": {
    "colab": {
     "base_uri": "https://localhost:8080/",
     "height": 35
    },
    "colab_type": "code",
    "id": "TQ39qc-jv4PA",
    "outputId": "278e9670-ebbe-47bb-ee58-b5b8b0c09a4e"
   },
   "outputs": [
    {
     "name": "stdout",
     "output_type": "stream",
     "text": [
      "{'text': ['gme', ''], 'sent_label': '0'}\n"
     ]
    }
   ],
   "source": [
    "# Sample from the training set\n",
    "print(vars(train_iterator.dataset[10]))"
   ]
  },
  {
   "cell_type": "code",
   "execution_count": 66,
   "metadata": {
    "colab": {
     "base_uri": "https://localhost:8080/",
     "height": 35
    },
    "colab_type": "code",
    "id": "2xPD99rLd5Fk",
    "outputId": "fddfa17d-bd08-4bab-d0e2-ff4a11d2ee1c"
   },
   "outputs": [
    {
     "name": "stdout",
     "output_type": "stream",
     "text": [
      "torch.Size([29151, 100])\n"
     ]
    }
   ],
   "source": [
    "# Copy the pre-trained word embeddings into the embedding layer\n",
    "pretrained_embeddings = TEXT.vocab.vectors\n",
    "\n",
    "# [vocab size, embedding dim]\n",
    "print(pretrained_embeddings.shape)"
   ]
  },
  {
   "cell_type": "code",
   "execution_count": 67,
   "metadata": {
    "colab": {
     "base_uri": "https://localhost:8080/",
     "height": 143
    },
    "colab_type": "code",
    "id": "We1MEJwZd9pp",
    "outputId": "a9e97fc7-d07c-4187-9cb1-97ec98e2639b"
   },
   "outputs": [
    {
     "data": {
      "text/plain": [
       "tensor([[-1.6289, -0.2439, -0.6557,  ..., -0.1974,  0.1326, -0.0666],\n",
       "        [ 0.4186,  0.5456, -0.0407,  ...,  1.8335,  0.3459,  1.1686],\n",
       "        [ 0.6246, -1.7770,  1.0019,  ..., -0.5105, -0.1578, -0.0476],\n",
       "        ...,\n",
       "        [ 0.3813,  0.4636,  0.3333,  ..., -0.6583, -2.2868, -1.4936],\n",
       "        [-1.0363, -0.4870,  0.1770,  ..., -0.9934, -0.4536,  0.2782],\n",
       "        [ 0.0804, -0.0131, -0.3026,  ..., -0.0917, -0.5893, -0.0245]])"
      ]
     },
     "execution_count": 67,
     "metadata": {},
     "output_type": "execute_result"
    }
   ],
   "source": [
    "# Replace the initial weights of the embedding layer with the pre-trained embeddings\n",
    "model.embedding.weight.data.copy_(pretrained_embeddings)"
   ]
  },
  {
   "cell_type": "code",
   "execution_count": 68,
   "metadata": {
    "colab": {
     "base_uri": "https://localhost:8080/",
     "height": 143
    },
    "colab_type": "code",
    "id": "p24pobL2eCqj",
    "outputId": "d48582e6-60c8-4147-c8d3-367d8093ffb1"
   },
   "outputs": [
    {
     "name": "stdout",
     "output_type": "stream",
     "text": [
      "tensor([[ 0.0000,  0.0000,  0.0000,  ...,  0.0000,  0.0000,  0.0000],\n",
      "        [ 0.0000,  0.0000,  0.0000,  ...,  0.0000,  0.0000,  0.0000],\n",
      "        [ 0.6246, -1.7770,  1.0019,  ..., -0.5105, -0.1578, -0.0476],\n",
      "        ...,\n",
      "        [ 0.3813,  0.4636,  0.3333,  ..., -0.6583, -2.2868, -1.4936],\n",
      "        [-1.0363, -0.4870,  0.1770,  ..., -0.9934, -0.4536,  0.2782],\n",
      "        [ 0.0804, -0.0131, -0.3026,  ..., -0.0917, -0.5893, -0.0245]])\n"
     ]
    }
   ],
   "source": [
    "# Initialize <unk> and <pad> both to all zeros - irrelevant for sentiment analysis\n",
    "UNK_IDX = TEXT.vocab.stoi[TEXT.unk_token]\n",
    "\n",
    "# Setting row in the embedding weights matrix to zero using the token index\n",
    "model.embedding.weight.data[UNK_IDX] = torch.zeros(EMBEDDING_DIM)\n",
    "model.embedding.weight.data[PAD_IDX] = torch.zeros(EMBEDDING_DIM)\n",
    "\n",
    "print(model.embedding.weight.data)"
   ]
  },
  {
   "cell_type": "markdown",
   "metadata": {
    "colab_type": "text",
    "id": "1FzS3q48u3bA"
   },
   "source": [
    "<a id='section4'></a>\n",
    "# **4. Training**"
   ]
  },
  {
   "cell_type": "code",
   "execution_count": 77,
   "metadata": {
    "colab": {},
    "colab_type": "code",
    "id": "mp-WpuhLk1np"
   },
   "outputs": [],
   "source": [
    "# Adam optimizer used to update the weights\n",
    "# optimizer = optim.Adam(model.parameters(), lr=2e-3)\n",
    "\n",
    "# Loss function: binary cross entropy with logits\n",
    "# It restricts the predictions to a number between 0 and 1 using the logit function\n",
    "# then use the bound scarlar to calculate the loss using binary cross entropy\n",
    "criterion = nn.BCEWithLogitsLoss()\n",
    "\n",
    "# Use GPU\n",
    "model = model.to(device)\n",
    "# criterion = criterion.to(device)"
   ]
  },
  {
   "cell_type": "markdown",
   "metadata": {
    "colab_type": "text",
    "id": "gsuG6zKbDk8t"
   },
   "source": [
    "### **Train the model**"
   ]
  },
  {
   "cell_type": "code",
   "execution_count": 78,
   "metadata": {},
   "outputs": [],
   "source": [
    "def batch_accuracy(predictions, label):\n",
    "    \"\"\"\n",
    "    Returns accuracy per batch.\n",
    "\n",
    "    predictions - float\n",
    "    label - 0 or 1\n",
    "    \"\"\"\n",
    "\n",
    "    # Round predictions to the closest integer using the sigmoid function\n",
    "    preds = torch.round(torch.sigmoid(predictions))\n",
    "    # If prediction is equal to label\n",
    "    correct = (preds == label).float()\n",
    "    # Average correct predictions\n",
    "    accuracy = correct.sum() / len(correct)\n",
    "\n",
    "    return accuracy\n",
    "\n",
    "def timer(start_time, end_time):\n",
    "    \"\"\"\n",
    "    Returns the minutes and seconds.\n",
    "    \"\"\"\n",
    "\n",
    "    time = end_time - start_time\n",
    "    mins = int(time / 60)\n",
    "    secs = int(time - (mins * 60))\n",
    "\n",
    "    return mins, secs"
   ]
  },
  {
   "cell_type": "code",
   "execution_count": null,
   "metadata": {},
   "outputs": [],
   "source": []
  },
  {
   "cell_type": "code",
   "execution_count": 85,
   "metadata": {},
   "outputs": [],
   "source": [
    "def train(model, iterator, optimizer, criterion):\n",
    "    \"\"\"\n",
    "    Function to evaluate training loss and accuracy.\n",
    "\n",
    "    iterator - train iterator\n",
    "    \"\"\"\n",
    "    \n",
    "    # Cumulated Training loss\n",
    "    training_loss = 0.0\n",
    "    # Cumulated Training accuracy\n",
    "    training_acc = 0.0\n",
    "    \n",
    "    # Set model to training mode\n",
    "    model.train()\n",
    "    \n",
    "    # For each batch in the training iterator\n",
    "    for batch in iterator:\n",
    "        \n",
    "        # 1. Zero the gradients\n",
    "        optimizer.zero_grad()\n",
    "        \n",
    "        # batch.text is a tuple (tensor, len of seq)\n",
    "        text, text_lengths = batch.text\n",
    "        \n",
    "        # 2. Compute the predictions\n",
    "        predictions = model(text, text_lengths).squeeze(1)\n",
    "        \n",
    "        # 3. Compute loss\n",
    "        loss = criterion(predictions, batch.sent_label.float())\n",
    "        \n",
    "        # Compute accuracy\n",
    "        accuracy = batch_accuracy(predictions, batch.sent_label.float())\n",
    "        \n",
    "        # 4. Use loss to compute gradients\n",
    "        loss.backward()\n",
    "        \n",
    "        # 5. Use optimizer to take gradient step\n",
    "        optimizer.step()\n",
    "        \n",
    "        training_loss += loss.item()\n",
    "        training_acc += accuracy.item()\n",
    "        \n",
    "    # Return the loss and accuracy, averaged across each epoch\n",
    "    # len of iterator = num of batches in the iterator\n",
    "    return training_loss / len(iterator), training_acc / len(iterator)\n",
    "\n",
    "\n",
    "def evaluate(model, iterator, criterion):\n",
    "    \"\"\"\n",
    "    Function to evaluate the loss and accuracy of validation and test sets.\n",
    "\n",
    "    iterator - validation or test iterator\n",
    "    \"\"\"\n",
    "    \n",
    "    # Cumulated Training loss\n",
    "    eval_loss = 0.0\n",
    "    # Cumulated Training accuracy\n",
    "    eval_acc = 0\n",
    "    \n",
    "    # Set model to evaluation mode\n",
    "    model.eval()\n",
    "    \n",
    "    # Don't calculate the gradients\n",
    "    with torch.no_grad():\n",
    "    \n",
    "        for batch in iterator:\n",
    "\n",
    "            text, text_lengths = batch.text\n",
    "            \n",
    "            predictions = model(text, text_lengths).squeeze(1)\n",
    "            \n",
    "            loss = criterion(predictions, batch.sent_label.float())\n",
    "            \n",
    "            accuracy = batch_accuracy(predictions, batch.sent_label.float())\n",
    "\n",
    "            eval_loss += loss.item()\n",
    "            eval_acc += accuracy.item()\n",
    "        \n",
    "    return eval_loss / len(iterator), eval_acc / len(iterator)        "
   ]
  },
  {
   "cell_type": "code",
   "execution_count": 86,
   "metadata": {
    "colab": {
     "base_uri": "https://localhost:8080/",
     "height": 377
    },
    "colab_type": "code",
    "id": "VxmPnZ6khFVP",
    "outputId": "851c8f5a-46c2-415f-a1cc-82484a31e6fb",
    "scrolled": false
   },
   "outputs": [
    {
     "name": "stdout",
     "output_type": "stream",
     "text": [
      "learning rate is 0.001\n",
      "Epoch 1:\n",
      "\t Total Time: 0m 13s\n",
      "\t Train Loss 0.15 | Train Accuracy: 94.25%\n",
      "\t Validation Loss 0.11 | Validation Accuracy: 95.8%\n",
      "Epoch 2:\n",
      "\t Total Time: 0m 13s\n",
      "\t Train Loss 0.1 | Train Accuracy: 96.02%\n",
      "\t Validation Loss 0.15 | Validation Accuracy: 94.98%\n",
      "Epoch 3:\n",
      "\t Total Time: 0m 13s\n",
      "\t Train Loss 0.08 | Train Accuracy: 96.97%\n",
      "\t Validation Loss 0.07 | Validation Accuracy: 97.53%\n",
      "Epoch 4:\n",
      "\t Total Time: 0m 13s\n",
      "\t Train Loss 0.06 | Train Accuracy: 97.6%\n",
      "\t Validation Loss 0.05 | Validation Accuracy: 98.21%\n",
      "Epoch 5:\n",
      "\t Total Time: 0m 13s\n",
      "\t Train Loss 0.05 | Train Accuracy: 98.03%\n",
      "\t Validation Loss 0.05 | Validation Accuracy: 98.15%\n",
      "Epoch 6:\n",
      "\t Total Time: 0m 13s\n",
      "\t Train Loss 0.05 | Train Accuracy: 98.32%\n",
      "\t Validation Loss 0.05 | Validation Accuracy: 98.31%\n",
      "Epoch 7:\n",
      "\t Total Time: 0m 14s\n",
      "\t Train Loss 0.04 | Train Accuracy: 98.58%\n",
      "\t Validation Loss 0.05 | Validation Accuracy: 98.26%\n",
      "Epoch 8:\n",
      "\t Total Time: 0m 15s\n",
      "\t Train Loss 0.03 | Train Accuracy: 98.75%\n",
      "\t Validation Loss 0.06 | Validation Accuracy: 98.17%\n",
      "Epoch 9:\n",
      "\t Total Time: 0m 14s\n",
      "\t Train Loss 0.03 | Train Accuracy: 98.92%\n",
      "\t Validation Loss 0.05 | Validation Accuracy: 98.43%\n",
      "Epoch 10:\n",
      "\t Total Time: 0m 14s\n",
      "\t Train Loss 0.03 | Train Accuracy: 99.06%\n",
      "\t Validation Loss 0.05 | Validation Accuracy: 98.35%\n",
      "learning rate is 0.005\n",
      "Epoch 1:\n",
      "\t Total Time: 0m 13s\n",
      "\t Train Loss 0.05 | Train Accuracy: 98.33%\n",
      "\t Validation Loss 0.07 | Validation Accuracy: 98.08%\n",
      "Epoch 2:\n",
      "\t Total Time: 0m 13s\n",
      "\t Train Loss 0.04 | Train Accuracy: 98.64%\n",
      "\t Validation Loss 0.07 | Validation Accuracy: 98.09%\n",
      "Epoch 3:\n",
      "\t Total Time: 0m 13s\n",
      "\t Train Loss 0.03 | Train Accuracy: 98.92%\n",
      "\t Validation Loss 0.08 | Validation Accuracy: 97.83%\n",
      "Epoch 4:\n",
      "\t Total Time: 0m 13s\n",
      "\t Train Loss 0.03 | Train Accuracy: 98.99%\n",
      "\t Validation Loss 0.08 | Validation Accuracy: 98.08%\n",
      "Epoch 5:\n",
      "\t Total Time: 0m 13s\n",
      "\t Train Loss 0.03 | Train Accuracy: 99.0%\n",
      "\t Validation Loss 0.08 | Validation Accuracy: 98.13%\n",
      "Epoch 6:\n",
      "\t Total Time: 0m 14s\n",
      "\t Train Loss 0.03 | Train Accuracy: 99.11%\n",
      "\t Validation Loss 0.1 | Validation Accuracy: 98.02%\n",
      "Epoch 7:\n",
      "\t Total Time: 0m 13s\n",
      "\t Train Loss 0.02 | Train Accuracy: 99.14%\n",
      "\t Validation Loss 0.09 | Validation Accuracy: 98.01%\n",
      "Epoch 8:\n",
      "\t Total Time: 0m 13s\n",
      "\t Train Loss 0.02 | Train Accuracy: 99.19%\n",
      "\t Validation Loss 0.09 | Validation Accuracy: 97.92%\n",
      "Epoch 9:\n",
      "\t Total Time: 0m 13s\n",
      "\t Train Loss 0.02 | Train Accuracy: 99.18%\n",
      "\t Validation Loss 0.1 | Validation Accuracy: 97.87%\n",
      "Epoch 10:\n",
      "\t Total Time: 0m 13s\n",
      "\t Train Loss 0.02 | Train Accuracy: 99.13%\n",
      "\t Validation Loss 0.1 | Validation Accuracy: 97.88%\n",
      "learning rate is 0.01\n",
      "Epoch 1:\n",
      "\t Total Time: 0m 14s\n",
      "\t Train Loss 0.04 | Train Accuracy: 98.48%\n",
      "\t Validation Loss 0.1 | Validation Accuracy: 97.39%\n",
      "Epoch 2:\n",
      "\t Total Time: 0m 13s\n",
      "\t Train Loss nan | Train Accuracy: 48.05%\n",
      "\t Validation Loss nan | Validation Accuracy: 0.0%\n",
      "Epoch 3:\n",
      "\t Total Time: 0m 13s\n",
      "\t Train Loss nan | Train Accuracy: 0.0%\n",
      "\t Validation Loss nan | Validation Accuracy: 0.0%\n",
      "Epoch 4:\n",
      "\t Total Time: 0m 13s\n",
      "\t Train Loss nan | Train Accuracy: 0.0%\n",
      "\t Validation Loss nan | Validation Accuracy: 0.0%\n",
      "Epoch 5:\n",
      "\t Total Time: 0m 13s\n",
      "\t Train Loss nan | Train Accuracy: 0.0%\n",
      "\t Validation Loss nan | Validation Accuracy: 0.0%\n",
      "Epoch 6:\n",
      "\t Total Time: 0m 14s\n",
      "\t Train Loss nan | Train Accuracy: 0.0%\n",
      "\t Validation Loss nan | Validation Accuracy: 0.0%\n",
      "Epoch 7:\n",
      "\t Total Time: 0m 13s\n",
      "\t Train Loss nan | Train Accuracy: 0.0%\n",
      "\t Validation Loss nan | Validation Accuracy: 0.0%\n",
      "Epoch 8:\n",
      "\t Total Time: 0m 13s\n",
      "\t Train Loss nan | Train Accuracy: 0.0%\n",
      "\t Validation Loss nan | Validation Accuracy: 0.0%\n",
      "Epoch 9:\n",
      "\t Total Time: 0m 14s\n",
      "\t Train Loss nan | Train Accuracy: 0.0%\n",
      "\t Validation Loss nan | Validation Accuracy: 0.0%\n",
      "Epoch 10:\n",
      "\t Total Time: 0m 13s\n",
      "\t Train Loss nan | Train Accuracy: 0.0%\n",
      "\t Validation Loss nan | Validation Accuracy: 0.0%\n",
      "learning rate is 0.05\n",
      "Epoch 1:\n",
      "\t Total Time: 0m 14s\n",
      "\t Train Loss nan | Train Accuracy: 0.0%\n",
      "\t Validation Loss nan | Validation Accuracy: 0.0%\n",
      "Epoch 2:\n",
      "\t Total Time: 0m 13s\n",
      "\t Train Loss nan | Train Accuracy: 0.0%\n",
      "\t Validation Loss nan | Validation Accuracy: 0.0%\n",
      "Epoch 3:\n",
      "\t Total Time: 0m 13s\n",
      "\t Train Loss nan | Train Accuracy: 0.0%\n",
      "\t Validation Loss nan | Validation Accuracy: 0.0%\n",
      "Epoch 4:\n",
      "\t Total Time: 0m 14s\n",
      "\t Train Loss nan | Train Accuracy: 0.0%\n",
      "\t Validation Loss nan | Validation Accuracy: 0.0%\n",
      "Epoch 5:\n",
      "\t Total Time: 0m 13s\n",
      "\t Train Loss nan | Train Accuracy: 0.0%\n",
      "\t Validation Loss nan | Validation Accuracy: 0.0%\n",
      "Epoch 6:\n",
      "\t Total Time: 0m 14s\n",
      "\t Train Loss nan | Train Accuracy: 0.0%\n",
      "\t Validation Loss nan | Validation Accuracy: 0.0%\n",
      "Epoch 7:\n",
      "\t Total Time: 0m 13s\n",
      "\t Train Loss nan | Train Accuracy: 0.0%\n",
      "\t Validation Loss nan | Validation Accuracy: 0.0%\n",
      "Epoch 8:\n",
      "\t Total Time: 0m 13s\n",
      "\t Train Loss nan | Train Accuracy: 0.0%\n",
      "\t Validation Loss nan | Validation Accuracy: 0.0%\n",
      "Epoch 9:\n",
      "\t Total Time: 0m 13s\n",
      "\t Train Loss nan | Train Accuracy: 0.0%\n",
      "\t Validation Loss nan | Validation Accuracy: 0.0%\n",
      "Epoch 10:\n",
      "\t Total Time: 0m 14s\n",
      "\t Train Loss nan | Train Accuracy: 0.0%\n",
      "\t Validation Loss nan | Validation Accuracy: 0.0%\n"
     ]
    }
   ],
   "source": [
    "# Number of epochs\n",
    "NUM_EPOCHS = 10\n",
    "\n",
    "# Lowest validation lost\n",
    "best_valid_loss = float('inf')\n",
    "\n",
    "learning_rates = [1e-3, 5e-3, 1e-2, 5e-2]\n",
    "\n",
    "for lr in learning_rates:\n",
    "    print(f'learning rate is {lr}')\n",
    "    optimizer = optim.Adam(model.parameters(), lr=lr)\n",
    "\n",
    "    for epoch in range(NUM_EPOCHS):\n",
    "\n",
    "        start_time = time.time()\n",
    "\n",
    "        # Evaluate training loss and accuracy\n",
    "        train_loss, train_acc = train(model, train_iterator, optimizer, criterion)\n",
    "        # Evaluate validation loss and accuracy\n",
    "        valid_loss, valid_acc = evaluate(model, valid_iterator, criterion)\n",
    "\n",
    "        end_time = time.time()\n",
    "\n",
    "        mins, secs = timer(start_time, end_time)\n",
    "\n",
    "        # At each epoch, if the validation loss is the best\n",
    "        if valid_loss < best_valid_loss:\n",
    "            best_valid_loss = valid_loss\n",
    "            # Save the parameters of the model\n",
    "            torch.save(model.state_dict(), 'trained_sentiment.pt')\n",
    "\n",
    "        print(\"Epoch {}:\".format(epoch+1))\n",
    "        print(\"\\t Total Time: {}m {}s\".format(mins, secs))\n",
    "        print(\"\\t Train Loss {} | Train Accuracy: {}%\".format(round(train_loss, 2), round(train_acc*100, 2)))\n",
    "        print(\"\\t Validation Loss {} | Validation Accuracy: {}%\".format(round(valid_loss, 2), round(valid_acc*100, 2)))"
   ]
  },
  {
   "cell_type": "markdown",
   "metadata": {
    "colab_type": "text",
    "id": "WRHo-gVszo9H"
   },
   "source": [
    "<a id='section5'></a>\n",
    "# **5. Prediction**"
   ]
  },
  {
   "cell_type": "code",
   "execution_count": 87,
   "metadata": {},
   "outputs": [
    {
     "ename": "ModuleNotFoundError",
     "evalue": "No module named 'utils'",
     "output_type": "error",
     "traceback": [
      "\u001b[0;31m---------------------------------------------------------------------------\u001b[0m",
      "\u001b[0;31mModuleNotFoundError\u001b[0m                       Traceback (most recent call last)",
      "\u001b[0;32m<ipython-input-87-b6731c8e912c>\u001b[0m in \u001b[0;36m<module>\u001b[0;34m\u001b[0m\n\u001b[0;32m----> 1\u001b[0;31m \u001b[0;32mfrom\u001b[0m \u001b[0mutils\u001b[0m\u001b[0;34m.\u001b[0m\u001b[0msentiment_util\u001b[0m \u001b[0;32mimport\u001b[0m \u001b[0mpredict\u001b[0m\u001b[0;34m\u001b[0m\u001b[0;34m\u001b[0m\u001b[0m\n\u001b[0m",
      "\u001b[0;31mModuleNotFoundError\u001b[0m: No module named 'utils'"
     ]
    }
   ],
   "source": [
    "# from utils.sentiment_util import predict"
   ]
  },
  {
   "cell_type": "code",
   "execution_count": 89,
   "metadata": {
    "colab": {
     "base_uri": "https://localhost:8080/",
     "height": 35
    },
    "colab_type": "code",
    "id": "n40NoCEniiL6",
    "outputId": "5bfdc497-c2de-4f0c-d3fe-b722422fd4ec"
   },
   "outputs": [
    {
     "name": "stdout",
     "output_type": "stream",
     "text": [
      "Test Loss: 0.05 | Test Acc: 98.19%\n"
     ]
    }
   ],
   "source": [
    "# Load the model with the best validation loss\n",
    "model.load_state_dict(torch.load('trained_sentiment.pt'))\n",
    "\n",
    "# Evaluate test loss and accuracy\n",
    "test_loss, test_acc = evaluate(model, test_iterator, criterion)\n",
    "\n",
    "print(\"Test Loss: {} | Test Acc: {}%\".format(round(test_loss, 2), round(test_acc*100, 2)))"
   ]
  }
 ],
 "metadata": {
  "accelerator": "GPU",
  "colab": {
   "collapsed_sections": [],
   "name": "sentiment140",
   "provenance": []
  },
  "kernelspec": {
   "display_name": "Python 3",
   "language": "python",
   "name": "python3"
  },
  "language_info": {
   "codemirror_mode": {
    "name": "ipython",
    "version": 3
   },
   "file_extension": ".py",
   "mimetype": "text/x-python",
   "name": "python",
   "nbconvert_exporter": "python",
   "pygments_lexer": "ipython3",
   "version": "3.9.1"
  }
 },
 "nbformat": 4,
 "nbformat_minor": 1
}
